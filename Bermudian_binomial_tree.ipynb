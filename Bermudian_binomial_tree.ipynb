{
 "cells": [
  {
   "cell_type": "code",
   "execution_count": 1,
   "id": "172027e8",
   "metadata": {},
   "outputs": [],
   "source": [
    "from bermudan_binomial_tree import *"
   ]
  },
  {
   "cell_type": "code",
   "execution_count": 2,
   "id": "a01f6482",
   "metadata": {},
   "outputs": [],
   "source": [
    "K = 99 #Strike Price\n",
    "S_0 = 100 #Stock price at t=0\n",
    "vol = 0.2\n",
    "r = 0.06 #risk-free interest rate per year\n",
    "T = 1 #Maturity period(in years)\n",
    "N = 5 #number of steps in the tree\n",
    "option_type=\"call\"\n",
    "exercise_time = [0.3, 0.6, 0.9]"
   ]
  },
  {
   "cell_type": "code",
   "execution_count": 3,
   "id": "9b805242",
   "metadata": {},
   "outputs": [],
   "source": [
    "dt = 1.0*T/N\n",
    "u = np.exp(vol * (dt)**0.5)\n",
    "d = np.exp(-vol * (dt)**0.5)\n",
    "p = (np.exp(r*dt) - d)/(u-d)\n",
    "# dt, u, d, p, 1-p, np.exp(-r*dt)"
   ]
  },
  {
   "cell_type": "code",
   "execution_count": 4,
   "id": "6bc8394c",
   "metadata": {},
   "outputs": [],
   "source": [
    "# f_u = 17.39\n",
    "# f_d = 5.58\n",
    "# holding_value = (p*f_u + (1-p)*f_d)*np.exp(-r*dt)\n",
    "# print(holding_value)"
   ]
  },
  {
   "cell_type": "code",
   "execution_count": 5,
   "id": "f1f91e3c",
   "metadata": {},
   "outputs": [
    {
     "name": "stdout",
     "output_type": "stream",
     "text": [
      "[[100.           0.           0.           0.           0.\n",
      "    0.        ]\n",
      " [ 91.44406436 109.35646911   0.           0.           0.\n",
      "    0.        ]\n",
      " [ 83.62016907 100.         119.58837337   0.           0.\n",
      "    0.        ]\n",
      " [ 76.46568122  91.44406436 109.35646911 130.77762259   0.\n",
      "    0.        ]\n",
      " [ 69.92332675  83.62016907 100.         119.58837337 143.01379046\n",
      "    0.        ]\n",
      " [ 63.94073192  76.46568122  91.44406436 109.35646911 130.77762259\n",
      "  156.39483159]]\n"
     ]
    }
   ],
   "source": [
    "tree = build_tree(S_0, vol, T, N)\n",
    "print(tree)"
   ]
  },
  {
   "cell_type": "code",
   "execution_count": 9,
   "id": "71e581a8",
   "metadata": {},
   "outputs": [
    {
     "name": "stdout",
     "output_type": "stream",
     "text": [
      "[[11.87716117  0.          0.          0.          0.          0.        ]\n",
      " [ 5.58184263 17.39488287  0.          0.          0.          0.        ]\n",
      " [ 1.61766003  9.014348   24.77533067  0.          0.          0.        ]\n",
      " [ 0.          3.00373818 14.23101719 34.12533733  0.          0.        ]\n",
      " [ 0.          0.          5.57746552 21.7692738  45.19469089  0.        ]\n",
      " [ 0.          0.          0.         10.35646911 31.77762259 57.39483159]]\n",
      "\n",
      "('option value present: ', 11.877161172520175)\n"
     ]
    }
   ],
   "source": [
    "dummy_tree = tree.copy()\n",
    "\n",
    "option_tree = get_option_value_binomial_matrix(dummy_tree, T, r, K, vol, N, exercise_time, \n",
    "                                               option_type=option_type)\n",
    "\n",
    "print(option_tree)\n",
    "\n",
    "option_value = option_tree[0][0]\n",
    "print(\"\")\n",
    "print(\"option value present: \", option_value)"
   ]
  },
  {
   "cell_type": "code",
   "execution_count": null,
   "id": "38eb28de",
   "metadata": {},
   "outputs": [],
   "source": []
  }
 ],
 "metadata": {
  "kernelspec": {
   "display_name": "sa_env",
   "language": "python",
   "name": "sa_env"
  },
  "language_info": {
   "codemirror_mode": {
    "name": "ipython",
    "version": 2
   },
   "file_extension": ".py",
   "mimetype": "text/x-python",
   "name": "python",
   "nbconvert_exporter": "python",
   "pygments_lexer": "ipython2",
   "version": "2.7.12"
  }
 },
 "nbformat": 4,
 "nbformat_minor": 5
}
