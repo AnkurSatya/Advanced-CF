{
 "cells": [
  {
   "cell_type": "code",
   "execution_count": 1,
   "id": "edb0e45f",
   "metadata": {},
   "outputs": [],
   "source": [
    "import numpy as np\n",
    "from bermudan_binomial_tree import *"
   ]
  },
  {
   "cell_type": "code",
   "execution_count": 31,
   "id": "daab22c0",
   "metadata": {},
   "outputs": [
    {
     "data": {
      "text/plain": [
       "3650"
      ]
     },
     "execution_count": 31,
     "metadata": {},
     "output_type": "execute_result"
    }
   ],
   "source": [
    "K = 99 #Strike Price\n",
    "S_0 = 100 #Stock price at t=0\n",
    "vol = 0.2\n",
    "r = 0.06 #risk-free interest rate per year\n",
    "T = 1 #Maturity period(in years)\n",
    "N = 365*10 #number of steps in the tree \n",
    "option_type=\"put\"\n",
    "exercise_points = np.arange(30, 365*T, 30) #in days\n",
    "N\n",
    "# exercise_points"
   ]
  },
  {
   "cell_type": "code",
   "execution_count": 32,
   "id": "9d88f17f",
   "metadata": {},
   "outputs": [],
   "source": [
    "dt = 1.0*T/N\n",
    "u = np.exp(vol * (dt)**0.5)\n",
    "d = np.exp(-vol * (dt)**0.5)\n",
    "p = (np.exp(r*dt) - d)/(u-d)\n",
    "# dt, u, d, p, 1-p, np.exp(-r*dt)"
   ]
  },
  {
   "cell_type": "code",
   "execution_count": 33,
   "id": "ae130043",
   "metadata": {},
   "outputs": [],
   "source": [
    "# f_u = 17.39\n",
    "# f_d = 5.58\n",
    "# holding_value = (p*f_u + (1-p)*f_d)*np.exp(-r*dt)\n",
    "# print(holding_value)"
   ]
  },
  {
   "cell_type": "code",
   "execution_count": 34,
   "id": "d06b3fed",
   "metadata": {},
   "outputs": [
    {
     "name": "stdout",
     "output_type": "stream",
     "text": [
      "[[1.00000000e+02 0.00000000e+00 0.00000000e+00 ... 0.00000000e+00\n",
      "  0.00000000e+00 0.00000000e+00]\n",
      " [9.96695050e+01 1.00331591e+02 0.00000000e+00 ... 0.00000000e+00\n",
      "  0.00000000e+00 0.00000000e+00]\n",
      " [9.93401022e+01 1.00000000e+02 1.00664281e+02 ... 0.00000000e+00\n",
      "  0.00000000e+00 0.00000000e+00]\n",
      " ...\n",
      " [5.69213519e-04 5.72994699e-04 5.76800995e-04 ... 1.75680999e+07\n",
      "  0.00000000e+00 0.00000000e+00]\n",
      " [5.67332297e-04 5.71100980e-04 5.74894697e-04 ... 1.75100383e+07\n",
      "  1.76263542e+07 0.00000000e+00]\n",
      " [5.65457292e-04 5.69213519e-04 5.72994699e-04 ... 1.74521684e+07\n",
      "  1.75680999e+07 1.76848016e+07]]\n"
     ]
    }
   ],
   "source": [
    "tree = build_tree(S_0, vol, T, N)\n",
    "print(tree)"
   ]
  },
  {
   "cell_type": "code",
   "execution_count": 35,
   "id": "fe28f1e7",
   "metadata": {},
   "outputs": [
    {
     "name": "stdout",
     "output_type": "stream",
     "text": [
      "[300, 600, 900, 1200, 1500, 1800, 2100, 2400, 2700, 3000, 3300, 3600]\n",
      "[[ 5.29902236  0.          0.         ...  0.          0.\n",
      "   0.        ]\n",
      " [ 5.42473137  5.17431654  0.         ...  0.          0.\n",
      "   0.        ]\n",
      " [ 5.55256199  5.29792208  5.05169624 ...  0.          0.\n",
      "   0.        ]\n",
      " ...\n",
      " [98.99617605 98.99617226 98.99616846 ...  0.          0.\n",
      "   0.        ]\n",
      " [98.99780528 98.99780152 98.99779772 ...  0.          0.\n",
      "   0.        ]\n",
      " [98.99943454 98.99943079 98.99942701 ...  0.          0.\n",
      "   0.        ]]\n",
      "\n",
      "('option value present: ', 5.2990223562825225)\n"
     ]
    }
   ],
   "source": [
    "dummy_tree = tree.copy()\n",
    "\n",
    "option_tree = get_option_value_binomial_matrix(dummy_tree, T, r, K, vol, N, exercise_points, \n",
    "                                               option_type=option_type)\n",
    "\n",
    "print(option_tree)\n",
    "\n",
    "option_value = option_tree[0][0]\n",
    "print(\"\")\n",
    "print(\"option value present: \", option_value)"
   ]
  },
  {
   "cell_type": "code",
   "execution_count": null,
   "id": "c5e45f8f",
   "metadata": {},
   "outputs": [],
   "source": []
  }
 ],
 "metadata": {
  "kernelspec": {
   "display_name": "sa_env",
   "language": "python",
   "name": "sa_env"
  },
  "language_info": {
   "codemirror_mode": {
    "name": "ipython",
    "version": 2
   },
   "file_extension": ".py",
   "mimetype": "text/x-python",
   "name": "python",
   "nbconvert_exporter": "python",
   "pygments_lexer": "ipython2",
   "version": "2.7.12"
  }
 },
 "nbformat": 4,
 "nbformat_minor": 5
}
